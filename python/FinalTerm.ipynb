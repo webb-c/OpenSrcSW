{
 "cells": [
  {
   "cell_type": "code",
   "execution_count": 21,
   "id": "c4698b1f",
   "metadata": {},
   "outputs": [
    {
     "name": "stdout",
     "output_type": "stream",
     "text": [
      "백신이 가장 많이 접종된 날 : 2021-06-27\n",
      "백신이 가장 적게 접종된 날 : 2020-12-04\n"
     ]
    }
   ],
   "source": [
    "import csv\n",
    "import pandas as pd\n",
    "import matplotlib.pyplot as plt\n",
    "import numpy as np\n",
    "\n",
    "f = open('country_vaccinations.csv')\n",
    "data = csv.reader(f)\n",
    "header = next(data)\n",
    "max_date = ''\n",
    "min_date = ''\n",
    "contry = [] #나라 이름 저장\n",
    "date = dict()   #날짜별 접종 수 저장\n",
    "vaccin = [] #백신 이름 저장\n",
    "\n",
    "#row[7] = daily_vaccinations\n",
    "#row[2] = date\n",
    "#row[0] = country\n",
    "#row[-3] = vaccines\n",
    "\n",
    "for row in data:\n",
    "    #누락된 데이터 처리\n",
    "    if row[7] == '':\n",
    "        row[7] = 0\n",
    "    row[7] = float(row[7])\n",
    "    if row[0] not in contry:\n",
    "        # 새 나라 추가\n",
    "        contry.append(row[0])\n",
    "    vacList = row[-3].split(,).strip()\n",
    "    for v in vacList :\n",
    "        if v not in vaccin:\n",
    "            #백신 이름 추가\n",
    "            vaccin.append(v)\n",
    "    #접종 수 count\n",
    "    if row[2] not in date:\n",
    "        date[row[2]] = row[7]\n",
    "    if row[2] in date:\n",
    "        date[row[2]] += row[7]\n",
    "    #국가별 횟수\n",
    "f.close()\n",
    "\n",
    "value = list(date.values())\n",
    "key = list(date.keys())\n",
    "max_num = max(value)\n",
    "min_num = min(value)\n",
    "max_id = value.index(max_num)\n",
    "min_id = value.index(min_num)\n",
    "max_date = key[max_id]\n",
    "min_date = key[min_id]\n",
    "print(\"백신이 가장 많이 접종된 날 :\", max_date)\n",
    "print(\"백신이 가장 적게 접종된 날 :\", min_date)\n",
    "\n",
    "#df = pd.DataFrame(, index=vaccines, columns=\"접종국가수\" )\n",
    "#others = ()\n",
    "#plt.pie(others)"
   ]
  },
  {
   "cell_type": "code",
   "execution_count": null,
   "id": "107c0e26",
   "metadata": {},
   "outputs": [],
   "source": []
  }
 ],
 "metadata": {
  "kernelspec": {
   "display_name": "Python 3 (ipykernel)",
   "language": "python",
   "name": "python3"
  },
  "language_info": {
   "codemirror_mode": {
    "name": "ipython",
    "version": 3
   },
   "file_extension": ".py",
   "mimetype": "text/x-python",
   "name": "python",
   "nbconvert_exporter": "python",
   "pygments_lexer": "ipython3",
   "version": "3.9.12"
  }
 },
 "nbformat": 4,
 "nbformat_minor": 5
}
