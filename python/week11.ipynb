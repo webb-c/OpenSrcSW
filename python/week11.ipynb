{
 "cells": [
  {
   "cell_type": "code",
   "execution_count": 10,
   "id": "cf8153c6",
   "metadata": {},
   "outputs": [
    {
     "name": "stdout",
     "output_type": "stream",
     "text": [
      "파이썬 2\n",
      "파일 2\n",
      "읽기 2\n",
      "예제입니다. 2\n",
      "다양한 1\n",
      "메소드를 1\n",
      "공부해 1\n",
      "보세요. 1\n",
      "실력이 1\n",
      "팍팍 1\n",
      "늘 1\n",
      "거예요~ 1\n",
      "단어 1\n",
      "수를 1\n",
      "카운트하는 1\n",
      "실습 1\n"
     ]
    }
   ],
   "source": [
    "# 실습1\n",
    "# \"README.txt\" 파일에 있는 각 단어의 수를 계산하여 출력\n",
    "\n",
    "f = open('README.txt','r')\n",
    "\n",
    "dic = dict()\n",
    "\n",
    "for line in f:\n",
    "    line = line.strip()\n",
    "    wordList = line.split(\" \")\n",
    "\n",
    "    for i in wordList:\n",
    "        if i in dic:\n",
    "            value = dic[i]\n",
    "            dic[i] = value+1\n",
    "        else :\n",
    "            dic[i] = 1\n",
    "\n",
    "#print\n",
    "for x in dic:\n",
    "    print(x, dic[x])\n",
    "\n"
   ]
  },
  {
   "cell_type": "code",
   "execution_count": 37,
   "id": "11540e6b",
   "metadata": {},
   "outputs": [
    {
     "name": "stdout",
     "output_type": "stream",
     "text": [
      "p1 = 1 3\n",
      "p2 = 4 4\n",
      "p1(after move) = 2 2\n",
      "\n",
      "Box b\n",
      "3 3\n",
      "5 5\n",
      "Box b(after move)\n",
      "3 3\n",
      "5 5\n"
     ]
    }
   ],
   "source": [
    "# 실습2\n",
    "# 2차원 공간상에서 점을 나타내는 Point 클래스를 작성하고, 상속받아 Box 클래스를 작성하라\n",
    "\n",
    "class Point:\n",
    "    \n",
    "    def __init__(self, x=0, y=0):\n",
    "        self.x = x\n",
    "        self.y = y\n",
    "    \n",
    "    def move(self, dx=0, dy=0):\n",
    "        self.x = self.x+dx\n",
    "        self.y = self.y+dy\n",
    "    \n",
    "    def show(self):\n",
    "        print(self.x, self.y)\n",
    "\n",
    "class Box(Point):\n",
    "    \n",
    "    def __init__(self, p1, p2):\n",
    "        self.p1 = p1\n",
    "        self.p2 = p2\n",
    "        \n",
    "    def move(self, dx=0, dy=0):\n",
    "        self.p1.move(dx, dy)\n",
    "        self.p2.move(dx, dy)\n",
    "        \n",
    "    def show(self):\n",
    "        self.p1.show()\n",
    "        self.p2.show()\n",
    "\n",
    "p1 = Point(1, 3)\n",
    "p2 = Point(4, 4)\n",
    "print(\"p1 =\", end=\" \")\n",
    "p1.show()\n",
    "print(\"p2 =\", end=\" \")\n",
    "p2.show()\n",
    "p1.move(1, -1)\n",
    "print(\"p1(after move) =\", end=\" \")\n",
    "p1.show()\n",
    "\n",
    "print()\n",
    "\n",
    "b = Box(p1, p2)\n",
    "print(\"Box b\")\n",
    "b.show()\n",
    "b.move(1, 1)\n",
    "print(\"Box b(after move)\")\n",
    "b.show()"
   ]
  },
  {
   "cell_type": "markdown",
   "id": "96e9943f",
   "metadata": {},
   "source": [
    "### 파이썬 클래스 특이점\n",
    "---\n",
    "- 클래스 안에서 따로 변수를 미리 만들어주지 않아도, 언제든지 메소드로 외부에서 값을 받아와서 그 값과 동일한 타입의 변수를 자동으로 생성할 수 있다.\n",
    "- 다만 그렇기 떄문에 타입지정에서 오류가 날 경우에 쉽게 찾기가 힘들다. (예를 들어 타입이없는 걸 잘못 대입하면 Object Type이 되서 오류발생)\n",
    "- 클래스가 가지고 있는 객체를 이용하려면 반드시 self.를 붙여서 나타내줘야한다. "
   ]
  }
 ],
 "metadata": {
  "kernelspec": {
   "display_name": "Python 3 (ipykernel)",
   "language": "python",
   "name": "python3"
  },
  "language_info": {
   "codemirror_mode": {
    "name": "ipython",
    "version": 3
   },
   "file_extension": ".py",
   "mimetype": "text/x-python",
   "name": "python",
   "nbconvert_exporter": "python",
   "pygments_lexer": "ipython3",
   "version": "3.10.2"
  }
 },
 "nbformat": 4,
 "nbformat_minor": 5
}
