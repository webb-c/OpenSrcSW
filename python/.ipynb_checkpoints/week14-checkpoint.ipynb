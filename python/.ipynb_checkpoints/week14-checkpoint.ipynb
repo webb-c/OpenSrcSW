{
 "cells": [
  {
   "cell_type": "code",
   "execution_count": 9,
   "id": "3e0925c0",
   "metadata": {},
   "outputs": [
    {
     "ename": "TypeError",
     "evalue": "'DataFrame' object is not callable",
     "output_type": "error",
     "traceback": [
      "\u001b[0;31m---------------------------------------------------------------------------\u001b[0m",
      "\u001b[0;31mTypeError\u001b[0m                                 Traceback (most recent call last)",
      "Input \u001b[0;32mIn [9]\u001b[0m, in \u001b[0;36m<cell line: 14>\u001b[0;34m()\u001b[0m\n\u001b[1;32m     12\u001b[0m \u001b[38;5;66;03m# 총 가격이 가장 비싼 가계 출력\u001b[39;00m\n\u001b[1;32m     13\u001b[0m maxvalue \u001b[38;5;241m=\u001b[39m \u001b[38;5;28mmax\u001b[39m(df[\u001b[38;5;124m'\u001b[39m\u001b[38;5;124mtotal price\u001b[39m\u001b[38;5;124m'\u001b[39m])\n\u001b[0;32m---> 14\u001b[0m df2 \u001b[38;5;241m=\u001b[39m \u001b[43mdf\u001b[49m\u001b[43m(\u001b[49m\u001b[43mdf\u001b[49m\u001b[43m[\u001b[49m\u001b[38;5;124;43m'\u001b[39;49m\u001b[38;5;124;43mtotal price\u001b[39;49m\u001b[38;5;124;43m'\u001b[39;49m\u001b[43m]\u001b[49m\u001b[38;5;241;43m==\u001b[39;49m\u001b[43mmaxvalue\u001b[49m\u001b[43m)\u001b[49m\n\u001b[1;32m     15\u001b[0m df2\n",
      "\u001b[0;31mTypeError\u001b[0m: 'DataFrame' object is not callable"
     ]
    }
   ],
   "source": [
    "# 실습 1 - 가격이 가장 비싼 가게를 출력하는 프로그램\n",
    "import numpy as np\n",
    "import pandas as pd\n",
    "\n",
    "# 데이터 프레임 생성\n",
    "df = pd.DataFrame(np.array([[1000, 25],[280, 120],[900, 30]]), index=['store1', 'store2', 'store3'], columns=['unit price', 'number'])\n",
    "\n",
    "# 총 가격이 추가된 데이터 프레임 생성\n",
    "df['total price'] = df['unit price']*df['number']\n",
    "df\n",
    "\n",
    "# 총 가격이 가장 비싼 가계 출력\n",
    "maxvalue = max(df['total price'])\n",
    "df2 = df[df['total price'] == maxvalue]\n",
    "df2"
   ]
  },
  {
   "cell_type": "code",
   "execution_count": null,
   "id": "26190541",
   "metadata": {},
   "outputs": [],
   "source": []
  },
  {
   "cell_type": "code",
   "execution_count": null,
   "id": "7e076382",
   "metadata": {},
   "outputs": [],
   "source": []
  }
 ],
 "metadata": {
  "kernelspec": {
   "display_name": "Python 3 (ipykernel)",
   "language": "python",
   "name": "python3"
  },
  "language_info": {
   "codemirror_mode": {
    "name": "ipython",
    "version": 3
   },
   "file_extension": ".py",
   "mimetype": "text/x-python",
   "name": "python",
   "nbconvert_exporter": "python",
   "pygments_lexer": "ipython3",
   "version": "3.9.12"
  }
 },
 "nbformat": 4,
 "nbformat_minor": 5
}
