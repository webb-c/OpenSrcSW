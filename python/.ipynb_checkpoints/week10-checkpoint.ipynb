{
 "cells": [
  {
   "cell_type": "code",
   "execution_count": 4,
   "id": "aa802fd7",
   "metadata": {},
   "outputs": [
    {
     "name": "stdout",
     "output_type": "stream",
     "text": [
      "죽는날까지 하늘을 우러러\n",
      "한 점 부끄럼이 없기를, \n",
      "잎새에 이는 바람에도\n",
      "너는 괴로워했다.\n",
      "별을 노래하는 마음으로 \n",
      "모든 죽어가는 것을 사랑해야지\n",
      "그리고 너한테 주어진 길을\n",
      "걸어가야겠다.\n",
      "오늘 밤에도 별이 바람에 스치운다.\n"
     ]
    }
   ],
   "source": [
    "# 실습 1\n",
    "\n",
    "str = \"\"\"  죽는날까지 하늘을 우러러\n",
    "한 점 부끄럼이 없기를, \n",
    "잎새에 이는 바람에도\n",
    "나는 괴로워했다.\n",
    "별을 노래하는 마음으로 \n",
    "모든 죽어가는 것을 사랑해야지\n",
    "그리고 나한테 주어진 길을\n",
    "걸어가야겠다.\n",
    "오늘 밤에도 별이 바람에 스치운다.  \"\"\"\n",
    "\n",
    "print(str.strip().replace(\"나\", \"너\"))"
   ]
  },
  {
   "cell_type": "markdown",
   "id": "d87eed6c",
   "metadata": {},
   "source": [
    "### 실습 1 - 모범 답안 \n",
    "---\n",
    "```python\n",
    "str = '''   죽는날까지 하늘을 우러러\n",
    "한 점 부끄럼이 없기를, \n",
    "잎새에 이는 바람에도\n",
    "나는 괴로워했다.\n",
    "별을 노래하는 마음으로 \n",
    "모든 죽어가는 것을 사랑해야지\n",
    "그리고 나한테 주어진 길을\n",
    "걸어가야겠다.\n",
    "오늘 밤에도 별이 바람에 스치운다.   '''\n",
    "str = str.strip()\n",
    "str = str.replace(\"나\", \"너\")\n",
    "print(str)\n",
    "```"
   ]
  },
  {
   "cell_type": "code",
   "execution_count": 8,
   "id": "2ba20ce2",
   "metadata": {},
   "outputs": [
    {
     "name": "stdout",
     "output_type": "stream",
     "text": [
      "Number? 10 456 87 78\n",
      "Max = 456\n"
     ]
    }
   ],
   "source": [
    "# 실습 2\n",
    "\n",
    "strNum = input(\"Number? \")\n",
    "numlist = strNum.split()\n",
    "\n",
    "max = int(numlist[0])\n",
    "for i in numlist[1:] :\n",
    "    i = int(i)\n",
    "    if(i > max): max = i\n",
    "\n",
    "print(\"Max =\", max)\n"
   ]
  },
  {
   "cell_type": "markdown",
   "id": "422cd6d9",
   "metadata": {},
   "source": [
    "### 실습 2 - 모범 답안\n",
    "---\n",
    "```python\n",
    "str = input(\"Numbers?\" )\n",
    "strlist = str.split()\n",
    "\n",
    "max = int(strlist[0])\n",
    "\n",
    "for str1 in strlist[1:]:\n",
    "    num = int(str1)\n",
    "    if(num > max) : max = num\n",
    "\n",
    "print(\"Max =\", max)\n",
    "```"
   ]
  },
  {
   "cell_type": "code",
   "execution_count": 18,
   "id": "d448166b",
   "metadata": {},
   "outputs": [
    {
     "name": "stdout",
     "output_type": "stream",
     "text": [
      "사용할 key를 입력하세요: 1\n",
      "암호화할 문자열을 입력하세요: abc def\n",
      "abc def -> 암호화 -> efg!bcd\n",
      "efg!bcd -> 복호화 -> abc def\n"
     ]
    }
   ],
   "source": [
    "# 실습 3 \n",
    "\n",
    "key = int(input(\"사용할 key를 입력하세요: \"))\n",
    "str = input(\"암호화할 문자열을 입력하세요: \")\n",
    "new_str = \"\"\n",
    "renew_str = \"\"\n",
    "\n",
    "orgin = str\n",
    "\n",
    "#암호화\n",
    "strTemp = str.split()\n",
    "strTemp = strTemp[::-1]\n",
    "str = \" \".join(strTemp)\n",
    "for i in str: \n",
    "    new_str += chr(ord(i)+key)\n",
    "\n",
    "#복호화\n",
    "for i in new_str: \n",
    "    renew_str += chr(ord(i)-key) \n",
    "renew_strTemp = renew_str.split()\n",
    "renew_strTemp = renew_strTemp[::-1]\n",
    "renew_str = \" \".join(renew_strTemp)\n",
    "    \n",
    "print(orgin+\" -> 암호화 -> \"+new_str)\n",
    "print(new_str+\" -> 복호화 -> \"+renew_str)"
   ]
  },
  {
   "cell_type": "markdown",
   "id": "96f110ee",
   "metadata": {},
   "source": [
    "### 실습 3 - 모범 답안\n",
    "---\n",
    "```python\n",
    "def conv_asc(str, num):\n",
    "    new_str = \"\"\n",
    "    for i in str:\n",
    "        code = ord(i)\n",
    "        new_str += chr(code+num)\n",
    "    return new_str\n",
    "\n",
    "def enc(str, key):\n",
    "    list = str.split()\n",
    "    list = list[::-1] #list.reverse()\n",
    "    new_str = \" \".join(list)\n",
    "    return conv_asc(new_str, key)\n",
    "\n",
    "def dec(str, key):\n",
    "    str = conv_asc(str, key*-1)\n",
    "    list = str.split()\n",
    "    list = list[::-1] #list.reverse()\n",
    "    new_str = \" \".join(list)\n",
    "    return new_str\n",
    "\n",
    "str = \"abc def\"\n",
    "enc_str = enc(str, 1)\n",
    "print(str+\" is encoded into \"+enc_str)\n",
    "\n",
    "dec_str = dec(enc_str, 1)\n",
    "print(enc_str+\" is decoded into \"+dec_str)\n",
    "```"
   ]
  }
 ],
 "metadata": {
  "kernelspec": {
   "display_name": "Python 3 (ipykernel)",
   "language": "python",
   "name": "python3"
  },
  "language_info": {
   "codemirror_mode": {
    "name": "ipython",
    "version": 3
   },
   "file_extension": ".py",
   "mimetype": "text/x-python",
   "name": "python",
   "nbconvert_exporter": "python",
   "pygments_lexer": "ipython3",
   "version": "3.10.2"
  }
 },
 "nbformat": 4,
 "nbformat_minor": 5
}
