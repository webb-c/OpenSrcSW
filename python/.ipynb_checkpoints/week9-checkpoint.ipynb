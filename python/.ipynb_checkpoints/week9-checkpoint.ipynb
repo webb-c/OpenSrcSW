{
 "cells": [
  {
   "cell_type": "code",
   "execution_count": 29,
   "id": "d4fefa32",
   "metadata": {},
   "outputs": [
    {
     "name": "stdout",
     "output_type": "stream",
     "text": [
      "456분은 7시간 36분 이다.\n"
     ]
    }
   ],
   "source": [
    "# 실습 1\n",
    "t = 456\n",
    "h = int(t / 60)\n",
    "m = t % 60\n",
    "print(str(t)+\"분은 \"+str(h)+\"시간 \"+str(m)+\"분 이다.\")"
   ]
  },
  {
   "cell_type": "code",
   "execution_count": 28,
   "id": "77ffbc79",
   "metadata": {},
   "outputs": [
    {
     "name": "stdout",
     "output_type": "stream",
     "text": [
      "김철수 2.8\n",
      "이영희 3.9\n",
      "임꺽정 4.0\n",
      "홍길동 3.4\n"
     ]
    }
   ],
   "source": [
    "# 실습 2\n",
    "dic = {\"홍길동\":3.4, \"임꺽정\":4.0, \"김철수\":2.8, \"이영희\":3.9}\n",
    "key_list = list(dic.keys())\n",
    "key_list.sort()\n",
    "key = key_list[0]\n",
    "print(key, dic.get(key))"
   ]
  }
 ],
 "metadata": {
  "kernelspec": {
   "display_name": "Python 3 (ipykernel)",
   "language": "python",
   "name": "python3"
  },
  "language_info": {
   "codemirror_mode": {
    "name": "ipython",
    "version": 3
   },
   "file_extension": ".py",
   "mimetype": "text/x-python",
   "name": "python",
   "nbconvert_exporter": "python",
   "pygments_lexer": "ipython3",
   "version": "3.10.2"
  }
 },
 "nbformat": 4,
 "nbformat_minor": 5
}
